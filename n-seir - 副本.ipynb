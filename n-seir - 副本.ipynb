{
 "cells": [
  {
   "cell_type": "markdown",
   "metadata": {},
   "source": [
    "# SEIR模型"
   ]
  },
  {
   "cell_type": "code",
   "execution_count": 1,
   "metadata": {},
   "outputs": [],
   "source": [
    "from scipy.integrate import odeint\n",
    "import matplotlib.pyplot as plt\n",
    "import numpy as np\n",
    "import random\n",
    "import torch\n",
    "from torch.utils.tensorboard import SummaryWriter\n",
    "import torch.utils.data as Data\n",
    "from torch import nn\n",
    "import torch.nn.functional as F\n",
    "from mymodel import *\n",
    "plt.rcParams['font.family'] = 'SimHei' \n",
    "plt.rcParams['axes.unicode_minus'] = False\n",
    "\n",
    "\n",
    "\n",
    "t = np.linspace(0,20,100)\n",
    "a=np.array([0.9,0.2,0.5,0.3,0.2])\n",
    "noise=0.01\n",
    "BATCH_SIZE=100\n",
    "k=100"
   ]
  },
  {
   "cell_type": "code",
   "execution_count": 2,
   "metadata": {},
   "outputs": [],
   "source": [
    "k=100\n",
    "x=[]\n",
    "y=[]\n",
    "for i in range(100):\n",
    "    re=np.random.random()\n",
    "    # re=0.5\n",
    "    u0=np.array([re,1-re,0,0])\n",
    "    # a0=a+np.random.uniform(0, 0.2, (len(a)))\n",
    "    a0=np.random.random(5)\n",
    "    data=REIS(t,u0,a0,noise)\n",
    "    for j in range(len(data)-1):\n",
    "        x.append(np.append(data[j],a0).tolist())\n",
    "        y.append(data[j+1].tolist())\n",
    "x=torch.tensor(x).to(torch.float32)\n",
    "y=torch.tensor(y).to(torch.float32)*k\n",
    "torch_dataset = Data.TensorDataset(x, y)\n",
    "loader = Data.DataLoader(\n",
    "    # 从数据库中每次抽出batch size个样本\n",
    "    dataset=torch_dataset,\n",
    "    batch_size=BATCH_SIZE,\n",
    "    shuffle=True,\n",
    "    num_workers=2,\n",
    ")"
   ]
  },
  {
   "cell_type": "markdown",
   "metadata": {},
   "source": [
    "# ResNet"
   ]
  },
  {
   "cell_type": "code",
   "execution_count": 3,
   "metadata": {},
   "outputs": [
    {
     "name": "stderr",
     "output_type": "stream",
     "text": [
      "2022-12-04 16:27:24.658235: I tensorflow/core/platform/cpu_feature_guard.cc:193] This TensorFlow binary is optimized with oneAPI Deep Neural Network Library (oneDNN) to use the following CPU instructions in performance-critical operations:  AVX2 FMA\n",
      "To enable them in other operations, rebuild TensorFlow with the appropriate compiler flags.\n",
      "2022-12-04 16:27:26.002452: W tensorflow/stream_executor/platform/default/dso_loader.cc:64] Could not load dynamic library 'libcudart.so.11.0'; dlerror: libcudart.so.11.0: cannot open shared object file: No such file or directory\n",
      "2022-12-04 16:27:26.002981: I tensorflow/stream_executor/cuda/cudart_stub.cc:29] Ignore above cudart dlerror if you do not have a GPU set up on your machine.\n",
      "2022-12-04 16:27:26.189856: E tensorflow/stream_executor/cuda/cuda_blas.cc:2981] Unable to register cuBLAS factory: Attempting to register factory for plugin cuBLAS when one has already been registered\n",
      "2022-12-04 16:27:40.764680: W tensorflow/stream_executor/platform/default/dso_loader.cc:64] Could not load dynamic library 'libnvinfer.so.7'; dlerror: libnvinfer.so.7: cannot open shared object file: No such file or directory\n",
      "2022-12-04 16:27:40.767588: W tensorflow/stream_executor/platform/default/dso_loader.cc:64] Could not load dynamic library 'libnvinfer_plugin.so.7'; dlerror: libnvinfer_plugin.so.7: cannot open shared object file: No such file or directory\n",
      "2022-12-04 16:27:40.767741: W tensorflow/compiler/tf2tensorrt/utils/py_utils.cc:38] TF-TRT Warning: Cannot dlopen some TensorRT libraries. If you would like to use Nvidia GPU with TensorRT, please make sure the missing libraries mentioned above are installed properly.\n"
     ]
    }
   ],
   "source": [
    "import torch\n",
    "from torch.utils.tensorboard import SummaryWriter\n",
    "from torch import nn\n",
    "import torch.nn.functional as F\n",
    "from tqdm import tqdm\n",
    "module = block_x(4,5)\n",
    "# 损失函数\n",
    "loss_fn = nn.MSELoss()\n",
    "# 优化器\n",
    "learning_rate = 1e-5\n",
    "optimizer = torch.optim.Adam(module.parameters())\n",
    "# optimizer = torch.optim.Adam(module.parameters())\n",
    "# 训练的轮数\n",
    "epoch = 1\n",
    "# 储存路径\n",
    "work_dir = './ResNet'\n",
    "# 添加tensorboard\n",
    "writer = SummaryWriter(\"{}/logs\".format(work_dir))\n",
    "def train(loader, model, loss_fn, optimizer):\n",
    "    \"\"\"\n",
    "        训练网络\n",
    "        输入:\n",
    "            train_dataloader:   训练集的dataloader\n",
    "            model:              网络模型\n",
    "            loss_fn:            损失函数\n",
    "            optimizer:          优化器\n",
    "        \"\"\"\n",
    "    # 切换到train模式\n",
    "    model.train()\n",
    "    # 遍历dataloader\n",
    "    train_step=0\n",
    "    best=2\n",
    "    loop = tqdm(enumerate(loader), total =len(loader))\n",
    "    for step,(x,y) in loop:\n",
    "        \n",
    "        # 输入数据到模型里得到输出\n",
    "        pred = model(x)\n",
    "        # 计算输出和标签的loss\n",
    "        l=torch.zeros(x.shape)\n",
    "        loss = loss_fn(pred, y)\n",
    "        # 反向推导\n",
    "        optimizer.zero_grad()\n",
    "        loss.backward()\n",
    "        # 步进优化器\n",
    "        optimizer.step()\n",
    "        los=float(loss)\n",
    "        if los<best:\n",
    "            torch.save(model.state_dict(), \"./data/random_model_parameter.pkl\")\n",
    "            best=los\n",
    "        # print(los,best)\n",
    "        train_step+=1\n",
    "        loop.set_postfix(loss=los,best=best)"
   ]
  },
  {
   "cell_type": "code",
   "execution_count": 6,
   "metadata": {},
   "outputs": [
    {
     "ename": "RuntimeError",
     "evalue": "Error(s) in loading state_dict for block_x:\n\tsize mismatch for l2.weight: copying a param with shape torch.Size([32, 64]) from checkpoint, the shape in current model is torch.Size([64, 64]).\n\tsize mismatch for l2.bias: copying a param with shape torch.Size([32]) from checkpoint, the shape in current model is torch.Size([64]).\n\tsize mismatch for l3.weight: copying a param with shape torch.Size([16, 32]) from checkpoint, the shape in current model is torch.Size([32, 64]).\n\tsize mismatch for l3.bias: copying a param with shape torch.Size([16]) from checkpoint, the shape in current model is torch.Size([32]).\n\tsize mismatch for l4.weight: copying a param with shape torch.Size([4, 16]) from checkpoint, the shape in current model is torch.Size([4, 32]).",
     "output_type": "error",
     "traceback": [
      "\u001b[0;31m---------------------------------------------------------------------------\u001b[0m",
      "\u001b[0;31mRuntimeError\u001b[0m                              Traceback (most recent call last)",
      "\u001b[1;32m/mnt/d/learning/毕业设计/n-seir - 副本.ipynb Cell 6\u001b[0m in \u001b[0;36m<cell line: 9>\u001b[0;34m()\u001b[0m\n\u001b[1;32m      <a href='vscode-notebook-cell://wsl%2Bubuntu/mnt/d/learning/%E6%AF%95%E4%B8%9A%E8%AE%BE%E8%AE%A1/n-seir%20-%20%E5%89%AF%E6%9C%AC.ipynb#W5sdnNjb2RlLXJlbW90ZQ%3D%3D?line=6'>7</a>\u001b[0m u0\u001b[39m=\u001b[39m[re,\u001b[39m1\u001b[39m\u001b[39m-\u001b[39mre,\u001b[39m0\u001b[39m,\u001b[39m0\u001b[39m]\n\u001b[1;32m      <a href='vscode-notebook-cell://wsl%2Bubuntu/mnt/d/learning/%E6%AF%95%E4%B8%9A%E8%AE%BE%E8%AE%A1/n-seir%20-%20%E5%89%AF%E6%9C%AC.ipynb#W5sdnNjb2RlLXJlbW90ZQ%3D%3D?line=7'>8</a>\u001b[0m res\u001b[39m=\u001b[39mREIS(t,u0,a)\n\u001b[0;32m----> <a href='vscode-notebook-cell://wsl%2Bubuntu/mnt/d/learning/%E6%AF%95%E4%B8%9A%E8%AE%BE%E8%AE%A1/n-seir%20-%20%E5%89%AF%E6%9C%AC.ipynb#W5sdnNjb2RlLXJlbW90ZQ%3D%3D?line=8'>9</a>\u001b[0m module\u001b[39m.\u001b[39;49mload_state_dict(torch\u001b[39m.\u001b[39;49mload(\u001b[39m\"\u001b[39;49m\u001b[39m./data/1model_parameter.pkl\u001b[39;49m\u001b[39m\"\u001b[39;49m))\n\u001b[1;32m     <a href='vscode-notebook-cell://wsl%2Bubuntu/mnt/d/learning/%E6%AF%95%E4%B8%9A%E8%AE%BE%E8%AE%A1/n-seir%20-%20%E5%89%AF%E6%9C%AC.ipynb#W5sdnNjb2RlLXJlbW90ZQ%3D%3D?line=9'>10</a>\u001b[0m x\u001b[39m=\u001b[39mtorch\u001b[39m.\u001b[39mtensor(np\u001b[39m.\u001b[39mappend(u0,a)\u001b[39m.\u001b[39mreshape(\u001b[39m1\u001b[39m,\u001b[39m9\u001b[39m))\u001b[39m.\u001b[39mto(torch\u001b[39m.\u001b[39mfloat32)\n\u001b[1;32m     <a href='vscode-notebook-cell://wsl%2Bubuntu/mnt/d/learning/%E6%AF%95%E4%B8%9A%E8%AE%BE%E8%AE%A1/n-seir%20-%20%E5%89%AF%E6%9C%AC.ipynb#W5sdnNjb2RlLXJlbW90ZQ%3D%3D?line=10'>11</a>\u001b[0m l\u001b[39m=\u001b[39m[]\n",
      "File \u001b[0;32m~/anaconda3/lib/python3.9/site-packages/torch/nn/modules/module.py:1604\u001b[0m, in \u001b[0;36mModule.load_state_dict\u001b[0;34m(self, state_dict, strict)\u001b[0m\n\u001b[1;32m   1599\u001b[0m         error_msgs\u001b[39m.\u001b[39minsert(\n\u001b[1;32m   1600\u001b[0m             \u001b[39m0\u001b[39m, \u001b[39m'\u001b[39m\u001b[39mMissing key(s) in state_dict: \u001b[39m\u001b[39m{}\u001b[39;00m\u001b[39m. \u001b[39m\u001b[39m'\u001b[39m\u001b[39m.\u001b[39mformat(\n\u001b[1;32m   1601\u001b[0m                 \u001b[39m'\u001b[39m\u001b[39m, \u001b[39m\u001b[39m'\u001b[39m\u001b[39m.\u001b[39mjoin(\u001b[39m'\u001b[39m\u001b[39m\"\u001b[39m\u001b[39m{}\u001b[39;00m\u001b[39m\"\u001b[39m\u001b[39m'\u001b[39m\u001b[39m.\u001b[39mformat(k) \u001b[39mfor\u001b[39;00m k \u001b[39min\u001b[39;00m missing_keys)))\n\u001b[1;32m   1603\u001b[0m \u001b[39mif\u001b[39;00m \u001b[39mlen\u001b[39m(error_msgs) \u001b[39m>\u001b[39m \u001b[39m0\u001b[39m:\n\u001b[0;32m-> 1604\u001b[0m     \u001b[39mraise\u001b[39;00m \u001b[39mRuntimeError\u001b[39;00m(\u001b[39m'\u001b[39m\u001b[39mError(s) in loading state_dict for \u001b[39m\u001b[39m{}\u001b[39;00m\u001b[39m:\u001b[39m\u001b[39m\\n\u001b[39;00m\u001b[39m\\t\u001b[39;00m\u001b[39m{}\u001b[39;00m\u001b[39m'\u001b[39m\u001b[39m.\u001b[39mformat(\n\u001b[1;32m   1605\u001b[0m                        \u001b[39mself\u001b[39m\u001b[39m.\u001b[39m\u001b[39m__class__\u001b[39m\u001b[39m.\u001b[39m\u001b[39m__name__\u001b[39m, \u001b[39m\"\u001b[39m\u001b[39m\\n\u001b[39;00m\u001b[39m\\t\u001b[39;00m\u001b[39m\"\u001b[39m\u001b[39m.\u001b[39mjoin(error_msgs)))\n\u001b[1;32m   1606\u001b[0m \u001b[39mreturn\u001b[39;00m _IncompatibleKeys(missing_keys, unexpected_keys)\n",
      "\u001b[0;31mRuntimeError\u001b[0m: Error(s) in loading state_dict for block_x:\n\tsize mismatch for l2.weight: copying a param with shape torch.Size([32, 64]) from checkpoint, the shape in current model is torch.Size([64, 64]).\n\tsize mismatch for l2.bias: copying a param with shape torch.Size([32]) from checkpoint, the shape in current model is torch.Size([64]).\n\tsize mismatch for l3.weight: copying a param with shape torch.Size([16, 32]) from checkpoint, the shape in current model is torch.Size([32, 64]).\n\tsize mismatch for l3.bias: copying a param with shape torch.Size([16]) from checkpoint, the shape in current model is torch.Size([32]).\n\tsize mismatch for l4.weight: copying a param with shape torch.Size([4, 16]) from checkpoint, the shape in current model is torch.Size([4, 32])."
     ]
    }
   ],
   "source": [
    "# for i in range(3):\n",
    "#     train(loader,module, loss_fn, optimizer)\n",
    "re=np.random.random()\n",
    "a=np.random.random(5)\n",
    "re=0.5\n",
    "a=np.array([0.9,0.2,0.5,0.3,0.2])\n",
    "u0=[re,1-re,0,0]\n",
    "res=REIS(t,u0,a)\n",
    "module.load_state_dict(torch.load(\"./data/random_model_parameter.pkl\"))\n",
    "x=torch.tensor(np.append(u0,a).reshape(1,9)).to(torch.float32)\n",
    "l=[]\n",
    "for i in range(100):\n",
    "    req=module(x)/k\n",
    "    l.append(req.tolist()[0])\n",
    "    x[:,:4]=req\n",
    "plt.plot(l)\n",
    "# plt.show()\n",
    "plt.plot(res[1:],'.')\n",
    "plt.show()"
   ]
  },
  {
   "cell_type": "code",
   "execution_count": null,
   "metadata": {},
   "outputs": [
    {
     "data": {
      "image/png": "[encoded data removed]",
      "text/plain": [
       "<Figure size 432x288 with 1 Axes>"
      ]
     },
     "metadata": {
      "needs_background": "light"
     },
     "output_type": "display_data"
    }
   ],
   "source": [
    "re=np.random.random()\n",
    "a=np.random.random(5)\n",
    "re=0.5\n",
    "# a=np.array([0.9,0.2,0.5,0.3,0.2])+np.random.uniform(0, 0.2, (len(a)))\n",
    "a0=np.random.random(5)\n",
    "u0=[re,1-re,0,0]\n",
    "res=REIS(t,u0,a)\n",
    "module.load_state_dict(torch.load(\"./data/random_model_parameter.pkl\"))\n",
    "x=torch.tensor(np.append(u0,a).reshape(1,9)).to(torch.float32)\n",
    "l=[]\n",
    "for i in range(100):\n",
    "    req=module(x)/k\n",
    "    l.append(req.tolist()[0])\n",
    "    x[:,:4]=req\n",
    "plt.plot(l)\n",
    "# plt.show()\n",
    "plt.plot(res[1:],'.')\n",
    "plt.show()"
   ]
  }
 ],
 "metadata": {
  "kernelspec": {
   "display_name": "Python 3.9.12 ('base')",
   "language": "python",
   "name": "python3"
  },
  "language_info": {
   "codemirror_mode": {
    "name": "ipython",
    "version": 3
   },
   "file_extension": ".py",
   "mimetype": "text/x-python",
   "name": "python",
   "nbconvert_exporter": "python",
   "pygments_lexer": "ipython3",
   "version": "3.9.12"
  },
  "orig_nbformat": 4,
  "vscode": {
   "interpreter": {
    "hash": "61a57a4b5406d2de388e2f91097d4e4bcd7d5f4a46f53a795aa28a02eed27fc5"
   }
  }
 },
 "nbformat": 4,
 "nbformat_minor": 2
}
